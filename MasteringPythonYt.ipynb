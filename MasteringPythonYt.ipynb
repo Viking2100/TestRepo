{
 "cells": [
  {
   "cell_type": "markdown",
   "id": "9db0fd87-05d6-4a7b-9dec-24a587315f7b",
   "metadata": {},
   "source": [
    "Testing the markdown"
   ]
  },
  {
   "cell_type": "code",
   "execution_count": 55,
   "id": "d4969212-491f-4012-8abd-e9de8fc9f419",
   "metadata": {},
   "outputs": [
    {
     "name": "stdout",
     "output_type": "stream",
     "text": [
      "Hello world\n"
     ]
    }
   ],
   "source": [
    "print(\"Hello world\")"
   ]
  },
  {
   "cell_type": "code",
   "execution_count": null,
   "id": "eb70202c-dd24-4c48-97d6-b1023476fcb0",
   "metadata": {},
   "outputs": [],
   "source": [
    "$a=b+c$"
   ]
  },
  {
   "cell_type": "markdown",
   "id": "60d61c67-397d-4eed-9feb-5be4eb9f3e42",
   "metadata": {
    "jp-MarkdownHeadingCollapsed": true
   },
   "source": [
    "# LGGG"
   ]
  },
  {
   "cell_type": "code",
   "execution_count": 2,
   "id": "5c93005c-aef8-4e74-9655-7e50034cbd33",
   "metadata": {},
   "outputs": [],
   "source": [
    "x,y,z = 2, 4j, \"heyo\""
   ]
  },
  {
   "cell_type": "code",
   "execution_count": 3,
   "id": "fed23184-5202-42d9-bc5f-5d360c204ae1",
   "metadata": {},
   "outputs": [
    {
     "name": "stdout",
     "output_type": "stream",
     "text": [
      "Variable   Type       Data/Info\n",
      "-------------------------------\n",
      "x          int        2\n",
      "y          complex    4j\n",
      "z          str        heyo\n"
     ]
    }
   ],
   "source": [
    "%whos"
   ]
  },
  {
   "cell_type": "code",
   "execution_count": 5,
   "id": "56b924bf-e2e7-4160-b57f-fa251d44b899",
   "metadata": {},
   "outputs": [
    {
     "ename": "NameError",
     "evalue": "name 'y' is not defined",
     "output_type": "error",
     "traceback": [
      "\u001b[1;31m---------------------------------------------------------------------------\u001b[0m",
      "\u001b[1;31mNameError\u001b[0m                                 Traceback (most recent call last)",
      "Cell \u001b[1;32mIn[5], line 1\u001b[0m\n\u001b[1;32m----> 1\u001b[0m \u001b[38;5;28;01mdel\u001b[39;00m y\n",
      "\u001b[1;31mNameError\u001b[0m: name 'y' is not defined"
     ]
    }
   ],
   "source": [
    "del y"
   ]
  },
  {
   "cell_type": "code",
   "execution_count": 6,
   "id": "51c0bc35-0914-4407-b7d4-addf4ff93315",
   "metadata": {},
   "outputs": [
    {
     "data": {
      "text/plain": [
       "16"
      ]
     },
     "execution_count": 6,
     "metadata": {},
     "output_type": "execute_result"
    }
   ],
   "source": [
    "2**4"
   ]
  },
  {
   "cell_type": "code",
   "execution_count": 7,
   "id": "c3b380a3-2a6a-49d1-9096-f285d8f12584",
   "metadata": {},
   "outputs": [
    {
     "data": {
      "text/plain": [
       "6"
      ]
     },
     "execution_count": 7,
     "metadata": {},
     "output_type": "execute_result"
    }
   ],
   "source": [
    "2^4"
   ]
  },
  {
   "cell_type": "code",
   "execution_count": 8,
   "id": "f8f7960b-0a88-489e-9619-2f5b84351d90",
   "metadata": {},
   "outputs": [
    {
     "data": {
      "text/plain": [
       "0"
      ]
     },
     "execution_count": 8,
     "metadata": {},
     "output_type": "execute_result"
    }
   ],
   "source": [
    "3^3"
   ]
  },
  {
   "cell_type": "markdown",
   "id": "590a4a20-a62a-400c-b7b4-e14f0ae80cee",
   "metadata": {
    "jp-MarkdownHeadingCollapsed": true
   },
   "source": [
    "# Operators"
   ]
  },
  {
   "cell_type": "code",
   "execution_count": 9,
   "id": "3fe53a68-543b-4eb8-b80b-73fb4b788c9d",
   "metadata": {},
   "outputs": [],
   "source": [
    "L= [1,2,3,4,\"mayowa\"]"
   ]
  },
  {
   "cell_type": "code",
   "execution_count": 10,
   "id": "10dfe8a6-0480-42a4-aac3-a8138a0b6291",
   "metadata": {},
   "outputs": [
    {
     "name": "stdout",
     "output_type": "stream",
     "text": [
      "<class 'list'>\n"
     ]
    }
   ],
   "source": [
    "print(type(L))"
   ]
  },
  {
   "cell_type": "code",
   "execution_count": 11,
   "id": "a9cb7f2f-946c-47b8-a319-1a1cf8244e55",
   "metadata": {},
   "outputs": [
    {
     "data": {
      "text/plain": [
       "list"
      ]
     },
     "execution_count": 11,
     "metadata": {},
     "output_type": "execute_result"
    }
   ],
   "source": [
    "type(L)"
   ]
  },
  {
   "cell_type": "code",
   "execution_count": 12,
   "id": "7ec7cddd-40ae-45e4-9f74-b34a0c08bd8f",
   "metadata": {},
   "outputs": [
    {
     "ename": "TypeError",
     "evalue": "can only concatenate list (not \"int\") to list",
     "output_type": "error",
     "traceback": [
      "\u001b[1;31m---------------------------------------------------------------------------\u001b[0m",
      "\u001b[1;31mTypeError\u001b[0m                                 Traceback (most recent call last)",
      "Cell \u001b[1;32mIn[12], line 1\u001b[0m\n\u001b[1;32m----> 1\u001b[0m M\u001b[38;5;241m=\u001b[39m L\u001b[38;5;241m+\u001b[39mx\n\u001b[0;32m      2\u001b[0m \u001b[38;5;28mprint\u001b[39m(M)\n",
      "\u001b[1;31mTypeError\u001b[0m: can only concatenate list (not \"int\") to list"
     ]
    }
   ],
   "source": [
    "M= L+x\n",
    "print(M)"
   ]
  },
  {
   "cell_type": "code",
   "execution_count": 13,
   "id": "c99505e5-5232-4679-9372-1cff82d3f6e1",
   "metadata": {},
   "outputs": [
    {
     "data": {
      "text/plain": [
       "False"
      ]
     },
     "execution_count": 13,
     "metadata": {},
     "output_type": "execute_result"
    }
   ],
   "source": [
    "3==2.999"
   ]
  },
  {
   "cell_type": "code",
   "execution_count": 14,
   "id": "b90842df-255f-41f0-be63-132070d0c2f3",
   "metadata": {},
   "outputs": [
    {
     "data": {
      "text/plain": [
       "True"
      ]
     },
     "execution_count": 14,
     "metadata": {},
     "output_type": "execute_result"
    }
   ],
   "source": [
    "3==3.0"
   ]
  },
  {
   "cell_type": "code",
   "execution_count": 15,
   "id": "fbdbba69-58e6-4acf-ba1f-635897b25a3d",
   "metadata": {},
   "outputs": [
    {
     "data": {
      "text/plain": [
       "(5, 2)"
      ]
     },
     "execution_count": 15,
     "metadata": {},
     "output_type": "execute_result"
    }
   ],
   "source": [
    "divmod(27,5)"
   ]
  },
  {
   "cell_type": "code",
   "execution_count": 18,
   "id": "2eb5217b-b14e-4cb3-87d5-e875ef782db5",
   "metadata": {},
   "outputs": [],
   "source": [
    "G = divmod(43,2)"
   ]
  },
  {
   "cell_type": "code",
   "execution_count": 19,
   "id": "87805d73-8de9-47e9-900c-ad1e4293f3d9",
   "metadata": {},
   "outputs": [
    {
     "data": {
      "text/plain": [
       "tuple"
      ]
     },
     "execution_count": 19,
     "metadata": {},
     "output_type": "execute_result"
    }
   ],
   "source": [
    "type(G)"
   ]
  },
  {
   "cell_type": "code",
   "execution_count": 20,
   "id": "ef19db94-6504-42af-92b6-5fd4177c4830",
   "metadata": {},
   "outputs": [
    {
     "data": {
      "text/plain": [
       "21"
      ]
     },
     "execution_count": 20,
     "metadata": {},
     "output_type": "execute_result"
    }
   ],
   "source": [
    "G[0]"
   ]
  },
  {
   "cell_type": "code",
   "execution_count": 21,
   "id": "92614857-68a5-47e1-8edd-2854928b924d",
   "metadata": {},
   "outputs": [
    {
     "name": "stdout",
     "output_type": "stream",
     "text": [
      "(21, 1)\n"
     ]
    }
   ],
   "source": [
    "print(G)"
   ]
  },
  {
   "cell_type": "code",
   "execution_count": 22,
   "id": "5b04a0d5-75ec-42ed-ad5e-301fd7e22067",
   "metadata": {},
   "outputs": [
    {
     "data": {
      "text/plain": [
       "1"
      ]
     },
     "execution_count": 22,
     "metadata": {},
     "output_type": "execute_result"
    }
   ],
   "source": [
    "43%2"
   ]
  },
  {
   "cell_type": "code",
   "execution_count": 23,
   "id": "6b555788-10b1-40e3-a33a-4a1a7daff664",
   "metadata": {},
   "outputs": [
    {
     "data": {
      "text/plain": [
       "21"
      ]
     },
     "execution_count": 23,
     "metadata": {},
     "output_type": "execute_result"
    }
   ],
   "source": [
    "43//2"
   ]
  },
  {
   "cell_type": "code",
   "execution_count": 26,
   "id": "f18ee276-0823-4093-82e0-b6ee37543f45",
   "metadata": {},
   "outputs": [
    {
     "name": "stdout",
     "output_type": "stream",
     "text": [
      "True\n"
     ]
    }
   ],
   "source": [
    "print(isinstance(G,(tuple,list)))"
   ]
  },
  {
   "cell_type": "code",
   "execution_count": 27,
   "id": "23432741-5fcf-4bd6-bf24-0327cf9a9140",
   "metadata": {},
   "outputs": [
    {
     "data": {
      "text/plain": [
       "9"
      ]
     },
     "execution_count": 27,
     "metadata": {},
     "output_type": "execute_result"
    }
   ],
   "source": [
    "3**2"
   ]
  },
  {
   "cell_type": "code",
   "execution_count": 28,
   "id": "a829a50a-785b-49ed-ac41-6d2e9469e761",
   "metadata": {},
   "outputs": [
    {
     "data": {
      "text/plain": [
       "9"
      ]
     },
     "execution_count": 28,
     "metadata": {},
     "output_type": "execute_result"
    }
   ],
   "source": [
    "pow(3,2)"
   ]
  },
  {
   "cell_type": "code",
   "execution_count": 29,
   "id": "fe967756-f052-4095-940f-052791b4e060",
   "metadata": {},
   "outputs": [
    {
     "data": {
      "text/plain": [
       "1"
      ]
     },
     "execution_count": 29,
     "metadata": {},
     "output_type": "execute_result"
    }
   ],
   "source": [
    "pow(3,2,8)"
   ]
  },
  {
   "cell_type": "code",
   "execution_count": 30,
   "id": "93c0c4d2-aa82-49e5-a13d-585a030142c5",
   "metadata": {},
   "outputs": [
    {
     "name": "stdout",
     "output_type": "stream",
     "text": [
      "Variable   Type     Data/Info\n",
      "-----------------------------\n",
      "G          tuple    n=2\n",
      "L          list     n=5\n",
      "x          int      2\n",
      "z          str      heyo\n"
     ]
    }
   ],
   "source": [
    "%whos"
   ]
  },
  {
   "cell_type": "code",
   "execution_count": 31,
   "id": "e1333c69-1d36-401a-9e3b-58a4342510b7",
   "metadata": {},
   "outputs": [
    {
     "name": "stdin",
     "output_type": "stream",
     "text": [
      "Yo name Victor\n"
     ]
    }
   ],
   "source": [
    "a = input(\"Yo name\")"
   ]
  },
  {
   "cell_type": "code",
   "execution_count": 34,
   "id": "1564e795-fb99-49ee-9b96-7c273cbd8bc3",
   "metadata": {},
   "outputs": [],
   "source": [
    "x=str(x)"
   ]
  },
  {
   "cell_type": "code",
   "execution_count": 36,
   "id": "db88d1c0-8445-4f3a-9067-d224b76d00fe",
   "metadata": {},
   "outputs": [
    {
     "name": "stdout",
     "output_type": "stream",
     "text": [
      "Variable   Type     Data/Info\n",
      "-----------------------------\n",
      "G          tuple    n=2\n",
      "L          list     n=5\n",
      "a          str      Victor\n",
      "x          str      2\n",
      "z          str      heyo\n"
     ]
    }
   ],
   "source": [
    "%whos"
   ]
  },
  {
   "cell_type": "code",
   "execution_count": 40,
   "id": "9c2ce496-8880-4d48-a76c-3e1d0bb991ab",
   "metadata": {},
   "outputs": [
    {
     "ename": "SyntaxError",
     "evalue": "invalid syntax (3583279196.py, line 1)",
     "output_type": "error",
     "traceback": [
      "\u001b[1;36m  Cell \u001b[1;32mIn[40], line 1\u001b[1;36m\u001b[0m\n\u001b[1;33m    help(if)\u001b[0m\n\u001b[1;37m         ^\u001b[0m\n\u001b[1;31mSyntaxError\u001b[0m\u001b[1;31m:\u001b[0m invalid syntax\n"
     ]
    }
   ],
   "source": [
    "help(if)"
   ]
  },
  {
   "cell_type": "markdown",
   "id": "640a0b0c-cb2f-4b87-8d6d-594afc15422f",
   "metadata": {},
   "source": [
    "#### a=int(input(\"Input a:\"))\n",
    "b=int(input(\"Input b:\"))\n",
    "if a>b:\n",
    "    print(a)\n",
    "elif b>a:\n",
    "    print(b)\n",
    "else:\n",
    "    print(\"Not the same value! Try again\")"
   ]
  },
  {
   "cell_type": "markdown",
   "id": "78db06fc-e87e-4d37-8933-ea3e6cfd62ce",
   "metadata": {
    "jp-MarkdownHeadingCollapsed": true
   },
   "source": [
    "# Loops"
   ]
  },
  {
   "cell_type": "code",
   "execution_count": 70,
   "id": "75f5f213-d36a-437d-b89a-f9ddb0711e21",
   "metadata": {},
   "outputs": [
    {
     "name": "stdout",
     "output_type": "stream",
     "text": [
      "heqllo\n"
     ]
    }
   ],
   "source": [
    "print(\"heqllo\")"
   ]
  },
  {
   "cell_type": "code",
   "execution_count": 1,
   "id": "79022385-72c8-447a-8b54-daa7d3638c1c",
   "metadata": {},
   "outputs": [
    {
     "name": "stdout",
     "output_type": "stream",
     "text": [
      "46 56 2025\n",
      "Still in the loop, and it's not in:2025\n",
      "Still in the loop, and it's not in:2026\n",
      "Still in the loop, and it's not in:2027\n",
      "Still in the loop, and it's not in:2028\n",
      "Still in the loop, and it's not in:2029\n",
      "Still in the loop, and it's not in:2030\n",
      "Still in the loop, and it's not in:2031\n",
      "Still in the loop, and it's not in:2032\n",
      "Still in the loop, and it's not in:2033\n",
      "Still in the loop, and it's not in:2034\n",
      "The father will double the son's age in 2035\n"
     ]
    }
   ],
   "source": [
    "y = 2025\n",
    "f = y-1969\n",
    "s = y-2002\n",
    "d = 2*s\n",
    "print(d,f,y)\n",
    "while d<f:\n",
    "    print(\"Still in the loop, and it's not in:\" + str(y))\n",
    "    y = y+1\n",
    "    d+=2\n",
    "    f+=1\n",
    "    \n",
    "print(\"The father will double the son's age in\", y)"
   ]
  },
  {
   "cell_type": "code",
   "execution_count": 5,
   "id": "66883951-6d3f-464f-8116-6af36f3662b0",
   "metadata": {},
   "outputs": [
    {
     "name": "stdout",
     "output_type": "stream",
     "text": [
      "1\n",
      "4\n",
      "7\n",
      "[1, 16, 49]\n"
     ]
    }
   ],
   "source": [
    "L = []\n",
    "for i in range(1,10,3):\n",
    "    print (i)\n",
    "    L.append(i**2)\n",
    "print(L)"
   ]
  },
  {
   "cell_type": "code",
   "execution_count": 20,
   "id": "abd98801-57e5-40b8-872c-505a5e0c1493",
   "metadata": {},
   "outputs": [
    {
     "name": "stdout",
     "output_type": "stream",
     "text": [
      "cherry\n",
      "apple\n",
      "2.7\n",
      "outside the loop\n"
     ]
    }
   ],
   "source": [
    "S = {\"apple\", 4.9,\"um\", 2.7,5,\"cherry\"}\n",
    "i = 1\n",
    "for x in S:\n",
    "    print(x)\n",
    "    i+=1\n",
    "    if i == 4:\n",
    "        break\n",
    "    else:\n",
    "        pass\n",
    "else:\n",
    "    print(\"Loop terminates with success\")\n",
    "print(\"outside the loop\")"
   ]
  },
  {
   "cell_type": "code",
   "execution_count": 23,
   "id": "6b6ae5c1-3624-4a3a-bafd-518e4d9b46a3",
   "metadata": {},
   "outputs": [
    {
     "name": "stdout",
     "output_type": "stream",
     "text": [
      "A 10\n",
      "B -19\n",
      "C abc\n"
     ]
    }
   ],
   "source": [
    "D = {\"A\":10, \"B\":-19, \"C\":\"abc\"}\n",
    "for x in D:\n",
    "    print(x, D[x])"
   ]
  },
  {
   "cell_type": "code",
   "execution_count": 40,
   "id": "82322192-647e-4608-9842-02fe11266b18",
   "metadata": {},
   "outputs": [
    {
     "name": "stdout",
     "output_type": "stream",
     "text": [
      "[-5, 1, 2, 2, 3, 4, 7, 9]\n"
     ]
    }
   ],
   "source": [
    "L = [1,2,4,-5,7,9,3,2]\n",
    "N =[]\n",
    "\n",
    "while L !=[]:\n",
    "    m=L[0]\n",
    "    for i in L:\n",
    "        if i<m:\n",
    "            m=i\n",
    "    N.append(m)\n",
    "    L.remove(m)\n",
    "        \n",
    "L=N\n",
    "print(L)"
   ]
  },
  {
   "cell_type": "code",
   "execution_count": 5,
   "id": "301bbeb6-3256-4cdb-b512-14c129841677",
   "metadata": {},
   "outputs": [
    {
     "data": {
      "text/plain": [
       "([-5, 2, 4, 1, 7, 9, 3, 2], 1)"
      ]
     },
     "execution_count": 5,
     "metadata": {},
     "output_type": "execute_result"
    }
   ],
   "source": [
    "L = [1,2,4,-5,7,9,3,2]\n",
    "\n",
    "m=L[0]\n",
    "idx = 0\n",
    "c = 0\n",
    "for i in L:\n",
    "    if i<m:\n",
    "        m=i\n",
    "        idx=c\n",
    "    c+=1\n",
    "tmp =L[0]\n",
    "L[0]=m\n",
    "L[idx]=tmp\n",
    "\n",
    "L,tmp"
   ]
  },
  {
   "cell_type": "markdown",
   "id": "6bb6e57c-bf02-445c-ac15-85482608b35a",
   "metadata": {},
   "source": [
    "# Functions"
   ]
  },
  {
   "cell_type": "code",
   "execution_count": 7,
   "id": "d9e39704-6c98-483f-bdfc-513bf90264a2",
   "metadata": {},
   "outputs": [
    {
     "data": {
      "text/plain": [
       "\u001b[1;31mSignature:\u001b[0m \u001b[0mlen\u001b[0m\u001b[1;33m(\u001b[0m\u001b[0mobj\u001b[0m\u001b[1;33m,\u001b[0m \u001b[1;33m/\u001b[0m\u001b[1;33m)\u001b[0m\u001b[1;33m\u001b[0m\u001b[1;33m\u001b[0m\u001b[0m\n",
       "\u001b[1;31mDocstring:\u001b[0m Return the number of items in a container.\n",
       "\u001b[1;31mType:\u001b[0m      builtin_function_or_method"
      ]
     },
     "metadata": {},
     "output_type": "display_data"
    }
   ],
   "source": [
    "len??"
   ]
  },
  {
   "cell_type": "code",
   "execution_count": 1,
   "id": "db5f765b-3738-4fb6-b3f0-27978c6da953",
   "metadata": {},
   "outputs": [
    {
     "data": {
      "text/plain": [
       "9"
      ]
     },
     "execution_count": 1,
     "metadata": {},
     "output_type": "execute_result"
    }
   ],
   "source": [
    "def add(x,y):\n",
    "    c=x+y\n",
    "    return c #this specifies an output that is given by the function\n",
    "q=add(4,5) #demonstrated here\n",
    "q"
   ]
  },
  {
   "cell_type": "markdown",
   "id": "75025c45-b9c6-4f62-be37-44fe1906864c",
   "metadata": {},
   "source": [
    "If in the above code, i didnt specify a variable after \"return\", the function ends there and ignores any command beyond that point. similar to the break fn in looops. If no input is specified/returned by a fn, the data type of that fn is \"none\", as shown below."
   ]
  },
  {
   "cell_type": "code",
   "execution_count": 3,
   "id": "0d835aca-d224-4ef2-99d1-711bad49b4f2",
   "metadata": {},
   "outputs": [
    {
     "name": "stdout",
     "output_type": "stream",
     "text": [
      "\n",
      "None\n"
     ]
    }
   ],
   "source": [
    "print(print())"
   ]
  },
  {
   "cell_type": "code",
   "execution_count": 7,
   "id": "ef128392-3d96-4498-8fc3-91b0275b7de7",
   "metadata": {},
   "outputs": [
    {
     "name": "stdout",
     "output_type": "stream",
     "text": [
      "5 7 sth\n"
     ]
    }
   ],
   "source": [
    "def r(): #here we have multiple output values as shown\n",
    "    a=5\n",
    "    b=7\n",
    "    d=\"sth\"\n",
    "    return a,b,d\n",
    "\n",
    "x,y,z=r()\n",
    "print(x,y,z)"
   ]
  },
  {
   "cell_type": "markdown",
   "id": "a15cf091-35b7-4888-95ac-7cf010ace585",
   "metadata": {},
   "source": [
    "What if we want to add a fn w/o a specified no of fns. an arbitrary no of arguments:"
   ]
  },
  {
   "cell_type": "code",
   "execution_count": 10,
   "id": "b6ef716b-b77c-4ce6-9ac0-7afe534627df",
   "metadata": {},
   "outputs": [
    {
     "name": "stdout",
     "output_type": "stream",
     "text": [
      "452.73\n"
     ]
    }
   ],
   "source": [
    "def add(*args):\n",
    "    sum=0\n",
    "    for i in range(len(args)):\n",
    "        sum+=args[i]\n",
    "    return sum\n",
    "\n",
    "ans=add(90,64,5.86,43.7,67,56,34,5.67,86.5)\n",
    "print(ans)"
   ]
  },
  {
   "cell_type": "markdown",
   "id": "9427d32e-7007-442c-a9fa-9199a7f80f84",
   "metadata": {},
   "source": [
    "Sometimes, we care about the order of the multi-argument. We can then use a key-value pair list as the input argument. we'll add 2 asterisks here"
   ]
  },
  {
   "cell_type": "code",
   "execution_count": 16,
   "id": "c85513f9-70ef-498d-9c8f-eb6ca6cf732b",
   "metadata": {},
   "outputs": [
    {
     "name": "stdout",
     "output_type": "stream",
     "text": [
      "Variable nmae is: firstName And Value is: Victor\n",
      "Variable nmae is: secondName And Value is: Oluwadamilare\n",
      "Variable nmae is: Age And Value is: 23\n"
     ]
    }
   ],
   "source": [
    "def printAllVariableNamesAndValue(**args):\n",
    "    for x in args:\n",
    "        print(\"Variable nmae is:\",x, \"And Value is:\", args[x])\n",
    "\n",
    "#varList = {firstName=\"Victor\", secondName= \"Oluwadamilare\", Age=\"23\"}\n",
    "printAllVariableNamesAndValue(firstName=\"Victor\", secondName= \"Oluwadamilare\", Age=\"23\")"
   ]
  },
  {
   "cell_type": "code",
   "execution_count": 6,
   "id": "182eb4a5-4ce8-4c8f-b7a4-5d61151408e2",
   "metadata": {},
   "outputs": [],
   "source": [
    "def gg(s=4): #default values\n",
    "    print(s)"
   ]
  },
  {
   "cell_type": "code",
   "execution_count": 3,
   "id": "8ffb5334-4ccc-4500-b339-33458dbf9e0e",
   "metadata": {},
   "outputs": [
    {
     "name": "stdout",
     "output_type": "stream",
     "text": [
      "4\n"
     ]
    }
   ],
   "source": [
    "gg()"
   ]
  },
  {
   "cell_type": "code",
   "execution_count": 4,
   "id": "79d25eca-3d1e-47b0-a40e-2fc518de022b",
   "metadata": {},
   "outputs": [
    {
     "name": "stdout",
     "output_type": "stream",
     "text": [
      "56\n"
     ]
    }
   ],
   "source": [
    "gg(56)"
   ]
  },
  {
   "cell_type": "markdown",
   "id": "bb3d26c1-201b-4d59-b4e3-fbbeec3eb7d3",
   "metadata": {},
   "source": [
    "Here's a quirk to note about python lists"
   ]
  },
  {
   "cell_type": "code",
   "execution_count": 5,
   "id": "33f7033e-c51d-43d5-9c09-41afd53e363d",
   "metadata": {},
   "outputs": [
    {
     "name": "stdout",
     "output_type": "stream",
     "text": [
      "[-9, 2, 3]\n"
     ]
    }
   ],
   "source": [
    "L=[1,2,3]\n",
    "L2=L\n",
    "L2[0]= -9\n",
    "print(L)"
   ]
  },
  {
   "cell_type": "markdown",
   "id": "db0a694a-5b77-4343-b6b9-a8b7f0258a32",
   "metadata": {},
   "source": [
    "# Modules"
   ]
  },
  {
   "cell_type": "markdown",
   "id": "8f9b3abc-27e5-4755-bf12-3e02c575fcf4",
   "metadata": {},
   "source": [
    "A collection of fns you make, that can be imported into any new python file. Versatile"
   ]
  },
  {
   "cell_type": "code",
   "execution_count": 9,
   "id": "6e40a440-3a55-49fa-8547-f370810f314e",
   "metadata": {},
   "outputs": [],
   "source": [
    "import sys\n",
    "sys.path.append(\"E:/hp/Documents/myPyModules\")"
   ]
  },
  {
   "cell_type": "code",
   "execution_count": 10,
   "id": "176f964c-5071-4a3a-b72d-b36531c356e8",
   "metadata": {},
   "outputs": [],
   "source": [
    "import my_universal_functions as myfs"
   ]
  },
  {
   "cell_type": "code",
   "execution_count": 12,
   "id": "01667418-23b1-4f5e-b789-802c431e0524",
   "metadata": {},
   "outputs": [
    {
     "data": {
      "text/plain": [
       "14"
      ]
     },
     "execution_count": 12,
     "metadata": {},
     "output_type": "execute_result"
    }
   ],
   "source": [
    "myfs.addAllNumerics(2,3,4,5)"
   ]
  },
  {
   "cell_type": "code",
   "execution_count": 14,
   "id": "be3ce84e-c023-4645-a018-7c0a949b0df9",
   "metadata": {},
   "outputs": [],
   "source": [
    "#we could also import like this\n",
    "from my_universal_functions import addAllNumerics"
   ]
  },
  {
   "cell_type": "code",
   "execution_count": 15,
   "id": "3e983a26-7466-4c84-afc8-e22d0ee2f6e3",
   "metadata": {},
   "outputs": [
    {
     "data": {
      "text/plain": [
       "18"
      ]
     },
     "execution_count": 15,
     "metadata": {},
     "output_type": "execute_result"
    }
   ],
   "source": [
    "addAllNumerics(1,7,4,6)"
   ]
  },
  {
   "cell_type": "code",
   "execution_count": 16,
   "id": "229899a1-7b8a-436b-ac72-fc2bc054f9c1",
   "metadata": {},
   "outputs": [
    {
     "data": {
      "text/plain": [
       "'Placeholder course name'"
      ]
     },
     "execution_count": 16,
     "metadata": {},
     "output_type": "execute_result"
    }
   ],
   "source": [
    "myfs.nyName"
   ]
  },
  {
   "cell_type": "code",
   "execution_count": null,
   "id": "b9179735-e2fc-4603-b14f-9374dc10507a",
   "metadata": {},
   "outputs": [],
   "source": []
  }
 ],
 "metadata": {
  "kernelspec": {
   "display_name": "Python 3 (ipykernel)",
   "language": "python",
   "name": "python3"
  },
  "language_info": {
   "codemirror_mode": {
    "name": "ipython",
    "version": 3
   },
   "file_extension": ".py",
   "mimetype": "text/x-python",
   "name": "python",
   "nbconvert_exporter": "python",
   "pygments_lexer": "ipython3",
   "version": "3.12.7"
  }
 },
 "nbformat": 4,
 "nbformat_minor": 5
}
